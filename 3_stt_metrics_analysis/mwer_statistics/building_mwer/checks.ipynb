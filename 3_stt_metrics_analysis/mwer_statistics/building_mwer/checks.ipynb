{
 "cells": [
  {
   "cell_type": "code",
   "execution_count": 3,
   "id": "7f312804-da43-42b4-8ff2-1cb4490d0fa5",
   "metadata": {},
   "outputs": [
    {
     "name": "stdout",
     "output_type": "stream",
     "text": [
      "Gefundene problematische Zeilen: 0\n",
      "\n",
      "Keine Fälle gefunden, in denen S_med > S, D_med > D oder I_med > I.\n"
     ]
    }
   ],
   "source": [
    "# Ziel: Prüfen, ob es Transcripts gibt, bei denen die medizinischen Zählungen die Standard-WER-Zählungen überschreiten.\n",
    "\n",
    "import pandas as pd\n",
    "\n",
    "# 1. CSV einlesen (aus dem vorherigen Schritt)\n",
    "df = pd.read_csv(\"transcripts_wer_mwer_phrase.csv\")\n",
    "\n",
    "# 2. Filterbedingungen definieren\n",
    "mask_sub = df[\"S_med\"] > df[\"S\"]\n",
    "mask_del = df[\"D_med\"] > df[\"D\"]\n",
    "mask_ins = df[\"I_med\"] > df[\"I\"]\n",
    "\n",
    "# 3. Alle problematischen Zeilen sammeln\n",
    "df_issues = df[mask_sub | mask_del | mask_ins]\n",
    "\n",
    "# 4. Übersicht der Probleme ausgeben\n",
    "print(f\"Gefundene problematische Zeilen: {len(df_issues)}\\n\")\n",
    "\n",
    "if not df_issues.empty:\n",
    "    display_columns = [\n",
    "        \"convoID\", \"S\", \"S_med\", \"D\", \"D_med\", \"I\", \"I_med\", \"wer\", \"mwer\"\n",
    "    ]\n",
    "    print(\"Beispielhafte problematische Einträge:\")\n",
    "    print(df_issues[display_columns].head(20).to_string(index=False))\n",
    "else:\n",
    "    print(\"Keine Fälle gefunden, in denen S_med > S, D_med > D oder I_med > I.\")\n"
   ]
  },
  {
   "cell_type": "code",
   "execution_count": null,
   "id": "4dda9f2f-8218-4904-863f-a9cbc002a636",
   "metadata": {},
   "outputs": [],
   "source": []
  }
 ],
 "metadata": {
  "kernelspec": {
   "display_name": "stanic eval",
   "language": "python",
   "name": "stanic-eval"
  },
  "language_info": {
   "codemirror_mode": {
    "name": "ipython",
    "version": 3
   },
   "file_extension": ".py",
   "mimetype": "text/x-python",
   "name": "python",
   "nbconvert_exporter": "python",
   "pygments_lexer": "ipython3",
   "version": "3.11.8"
  }
 },
 "nbformat": 4,
 "nbformat_minor": 5
}
