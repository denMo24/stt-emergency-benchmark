{
 "cells": [
  {
   "cell_type": "code",
   "execution_count": 2,
   "id": "40ff35e6-9ba4-44d5-bd19-aee71d87e661",
   "metadata": {},
   "outputs": [
    {
     "name": "stdout",
     "output_type": "stream",
     "text": [
      "Zeilen vor Löschen von 'mueller': 6072\n",
      "Zeilen nach Löschen von 'mueller': 6071\n",
      "Gefiltertes CSV gespeichert als: /Users/mosimacnew/Code/speechbrain-fix/myNotebooks/2_STT-Metriken/mwer/lexikon_deDE15LinguisticVariant_final_nomueller.csv\n"
     ]
    }
   ],
   "source": [
    "import os\n",
    "import pandas as pd\n",
    "\n",
    "# 1. Arbeitsverzeichnis ermitteln\n",
    "base_dir = os.getcwd()\n",
    "\n",
    "# 2. Pfad zur CSV\n",
    "csv_path = os.path.join(base_dir, 'lexikon_deDE15LinguisticVariant_final.csv')\n",
    "\n",
    "# 3. Einlesen\n",
    "df = pd.read_csv(csv_path, encoding='utf-8')\n",
    "\n",
    "# 4. Count vor dem Löschen\n",
    "print(f\"Zeilen vor Löschen von 'mueller': {len(df)}\")\n",
    "\n",
    "# 5. Alle Zeilen löschen, in denen in der Spalte COMPONENT_cleaned 'mueller' vorkommt\n",
    "mask = df['COMPONENT_cleaned'].str.contains('mueller', case=False, na=False)\n",
    "df_filtered = df.loc[~mask]\n",
    "\n",
    "# 6. Count nach dem Löschen\n",
    "print(f\"Zeilen nach Löschen von 'mueller': {len(df_filtered)}\")\n",
    "\n",
    "# 7. Neues CSV speichern\n",
    "out_path = os.path.join(base_dir, 'lexikon_deDE15LinguisticVariant_final_nomueller.csv')\n",
    "df_filtered.to_csv(out_path, index=False, encoding='utf-8')\n",
    "print(f\"Gefiltertes CSV gespeichert als: {out_path}\")\n",
    "\n"
   ]
  },
  {
   "cell_type": "code",
   "execution_count": 11,
   "id": "7fdeedf1-752a-4e22-9574-c5e216e42fca",
   "metadata": {},
   "outputs": [
    {
     "name": "stdout",
     "output_type": "stream",
     "text": [
      "Alle Artikel entfernt – neues CSV: /Users/mosimacnew/Code/speechbrain-fix/myNotebooks/2_STT-Metriken/mwer/lexikon_deDE15LinguisticVariant_final_noarticles.csv\n"
     ]
    }
   ],
   "source": [
    "import os\n",
    "import pandas as pd\n",
    "import re\n",
    "\n",
    "# 1. Arbeitsverzeichnis ermitteln\n",
    "base_dir = os.getcwd()\n",
    "\n",
    "# 2. Pfad zur aktuellen CSV (passe ggf. den Dateinamen an)\n",
    "csv_in  = os.path.join(base_dir, 'lexikon_deDE15LinguisticVariant_final.csv')\n",
    "csv_out = os.path.join(base_dir, 'lexikon_deDE15LinguisticVariant_final_noarticles.csv')\n",
    "\n",
    "# 3. Einlesen\n",
    "df = pd.read_csv(csv_in, encoding='utf-8')\n",
    "\n",
    "# 4. Liste der zu entfernenden Wörter (alles in Kleinbuchstaben)\n",
    "articles = ['stunden', 'nach', 'und', 'die', 'der', 'das', 'in', 'mit', 'zu', 'auf', 'einer', 'ordnung', 'fuer', 'sie', 'normal', 'an', 'vor', 'auch']\n",
    "\n",
    "# 5. Funktion, die die Artikel und überflüssige Leerzeichen löscht\n",
    "def remove_articles(text):\n",
    "    if pd.isna(text):\n",
    "        return text\n",
    "    text = text.lower()\n",
    "    # Regex für ganze Wort-Matches der Artikel\n",
    "    pattern = r'\\b(?:' + '|'.join(articles) + r')\\b'\n",
    "    # Entfernen und mehrfach Leerzeichen auf ein reduzieren\n",
    "    text = re.sub(pattern, ' ', text)\n",
    "    text = re.sub(r'\\s+', ' ', text).strip()\n",
    "    return text\n",
    "\n",
    "# 6. Spalte aktualisieren\n",
    "df['COMPONENT_cleaned'] = df['COMPONENT_cleaned'].apply(remove_articles)\n",
    "\n",
    "# 7. Speichern\n",
    "df.to_csv(csv_out, index=False, encoding='utf-8')\n",
    "print(f\"Alle Artikel entfernt – neues CSV: {csv_out}\")\n"
   ]
  },
  {
   "cell_type": "code",
   "execution_count": 12,
   "id": "96895651-9e63-45b1-8479-e61320562265",
   "metadata": {},
   "outputs": [
    {
     "name": "stdout",
     "output_type": "stream",
     "text": [
      "Neues CSV ohne Artikel gespeichert: /Users/mosimacnew/Code/speechbrain-fix/myNotebooks/2_STT-Metriken/mwer/lexikon_ATC-Bedeutung_final_noarticles.csv\n"
     ]
    }
   ],
   "source": [
    "import os\n",
    "import pandas as pd\n",
    "import re\n",
    "\n",
    "# 1. Arbeitsverzeichnis ermitteln\n",
    "base_dir = os.getcwd()\n",
    "\n",
    "# 2. Pfade für Eingabe- und Ausgabe-CSV\n",
    "csv_in  = os.path.join(base_dir, 'lexikon_ATC-Bedeutung_final.csv')\n",
    "csv_out = os.path.join(base_dir, 'lexikon_ATC-Bedeutung_final_noarticles.csv')\n",
    "\n",
    "# 3. CSV einlesen\n",
    "df = pd.read_csv(csv_in, encoding='utf-8')\n",
    "\n",
    "# 4. Liste der zu entfernenden Wörter (alles in Kleinbuchstaben)\n",
    "articles = ['stunden', 'nach', 'und', 'die', 'der', 'das', 'in', 'mit', 'zu', 'auf', 'einer', 'ordnung', 'fuer', 'sie', 'normal', 'an', 'vor', 'auch']\n",
    "\n",
    "# 5. Funktion, die die Artikel und überflüssige Leerzeichen löscht\n",
    "def remove_articles(text):\n",
    "    if pd.isna(text):\n",
    "        return text\n",
    "    text = text.lower()\n",
    "    pattern = r'\\b(?:' + '|'.join(articles) + r')\\b'\n",
    "    text = re.sub(pattern, ' ', text)\n",
    "    text = re.sub(r'\\s+', ' ', text).strip()\n",
    "    return text\n",
    "\n",
    "# 6. Spalte updaten\n",
    "df['ATC-Bedeutung_cleaned'] = df['ATC-Bedeutung_cleaned'].apply(remove_articles)\n",
    "\n",
    "# 7. Neues CSV speichern\n",
    "df.to_csv(csv_out, index=False, encoding='utf-8')\n",
    "print(f\"Neues CSV ohne Artikel gespeichert: {csv_out}\")\n"
   ]
  },
  {
   "cell_type": "code",
   "execution_count": 13,
   "id": "e137bbbf-5458-4685-9fe2-e5388e31f18f",
   "metadata": {},
   "outputs": [
    {
     "ename": "ModuleNotFoundError",
     "evalue": "No module named 'stop_words'",
     "output_type": "error",
     "traceback": [
      "\u001b[31m---------------------------------------------------------------------------\u001b[39m",
      "\u001b[31mModuleNotFoundError\u001b[39m                       Traceback (most recent call last)",
      "\u001b[36mCell\u001b[39m\u001b[36m \u001b[39m\u001b[32mIn[13]\u001b[39m\u001b[32m, line 3\u001b[39m\n\u001b[32m      1\u001b[39m \u001b[38;5;28;01mimport\u001b[39;00m\u001b[38;5;250m \u001b[39m\u001b[34;01mos\u001b[39;00m\n\u001b[32m      2\u001b[39m \u001b[38;5;28;01mimport\u001b[39;00m\u001b[38;5;250m \u001b[39m\u001b[34;01mpandas\u001b[39;00m\u001b[38;5;250m \u001b[39m\u001b[38;5;28;01mas\u001b[39;00m\u001b[38;5;250m \u001b[39m\u001b[34;01mpd\u001b[39;00m\n\u001b[32m----> \u001b[39m\u001b[32m3\u001b[39m \u001b[38;5;28;01mfrom\u001b[39;00m\u001b[38;5;250m \u001b[39m\u001b[34;01mstop_words\u001b[39;00m\u001b[38;5;250m \u001b[39m\u001b[38;5;28;01mimport\u001b[39;00m get_stop_words\n\u001b[32m      5\u001b[39m \u001b[38;5;66;03m# Arbeitsverzeichnis\u001b[39;00m\n\u001b[32m      6\u001b[39m base_dir = os.getcwd()\n",
      "\u001b[31mModuleNotFoundError\u001b[39m: No module named 'stop_words'"
     ]
    }
   ],
   "source": [
    "import os\n",
    "import pandas as pd\n",
    "from stop_words import get_stop_words\n",
    "\n",
    "# Arbeitsverzeichnis\n",
    "base_dir = os.getcwd()\n",
    "csv_in  = os.path.join(base_dir, 'lexikon_ATC-Bedeutung_final.csv')\n",
    "csv_out = os.path.join(base_dir, 'lexikon_ATC-Bedeutung_final_noarticles.csv')\n",
    "\n",
    "# CSV laden\n",
    "df = pd.read_csv(csv_in, encoding='utf-8')\n",
    "\n",
    "# Deutsche Stopwords holen und um eigene erweitern\n",
    "stops = set(get_stop_words('german'))\n",
    "stops.update(['stunden','nach','und','die','der','das','in','mit','zu','auf',\n",
    "              'einer','ordnung','fuer','sie','normal','an','vor','auch'])\n",
    "\n",
    "# Stopwords filtern\n",
    "df['ATC-Bedeutung_cleaned'] = (\n",
    "    df['ATC-Bedeutung_cleaned']\n",
    "    .fillna('')\n",
    "    .apply(lambda txt: ' '.join(w for w in txt.split() if w not in stops))\n",
    ")\n",
    "\n",
    "# Speichern\n",
    "df.to_csv(csv_out, index=False, encoding='utf-8')\n",
    "print(\"Fertig:\", csv_out)\n"
   ]
  },
  {
   "cell_type": "code",
   "execution_count": 14,
   "id": "545a97ba-bb75-4827-9e96-7c18ecfd623e",
   "metadata": {},
   "outputs": [
    {
     "ename": "ModuleNotFoundError",
     "evalue": "No module named 'nltk'",
     "output_type": "error",
     "traceback": [
      "\u001b[31m---------------------------------------------------------------------------\u001b[39m",
      "\u001b[31mModuleNotFoundError\u001b[39m                       Traceback (most recent call last)",
      "\u001b[36mCell\u001b[39m\u001b[36m \u001b[39m\u001b[32mIn[14]\u001b[39m\u001b[32m, line 1\u001b[39m\n\u001b[32m----> \u001b[39m\u001b[32m1\u001b[39m \u001b[38;5;28;01mimport\u001b[39;00m\u001b[38;5;250m \u001b[39m\u001b[34;01mnltk\u001b[39;00m\n\u001b[32m      2\u001b[39m nltk.download(\u001b[33m'\u001b[39m\u001b[33mstopwords\u001b[39m\u001b[33m'\u001b[39m)\n",
      "\u001b[31mModuleNotFoundError\u001b[39m: No module named 'nltk'"
     ]
    }
   ],
   "source": [
    "import nltk\n",
    "nltk.download('stopwords')"
   ]
  },
  {
   "cell_type": "code",
   "execution_count": null,
   "id": "37e95d6b-0cc9-453b-9ba8-8af796176b4e",
   "metadata": {},
   "outputs": [],
   "source": []
  }
 ],
 "metadata": {
  "kernelspec": {
   "display_name": "JMeter Loadtesting",
   "language": "python",
   "name": "jmeter-loadtesting"
  },
  "language_info": {
   "codemirror_mode": {
    "name": "ipython",
    "version": 3
   },
   "file_extension": ".py",
   "mimetype": "text/x-python",
   "name": "python",
   "nbconvert_exporter": "python",
   "pygments_lexer": "ipython3",
   "version": "3.13.2"
  }
 },
 "nbformat": 4,
 "nbformat_minor": 5
}
