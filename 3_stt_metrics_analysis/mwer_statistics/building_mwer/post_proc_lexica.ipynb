{
 "cells": [
  {
   "cell_type": "code",
   "execution_count": 2,
   "id": "40ff35e6-9ba4-44d5-bd19-aee71d87e661",
   "metadata": {},
   "outputs": [
    {
     "name": "stdout",
     "output_type": "stream",
     "text": [
      "Zeilen vor Löschen von 'mueller': 6072\n",
      "Zeilen nach Löschen von 'mueller': 6071\n",
      "Gefiltertes CSV gespeichert als: /Users/mosimacnew/Code/speechbrain-fix/myNotebooks/2_STT-Metriken/mwer/lexikon_deDE15LinguisticVariant_final_nomueller.csv\n"
     ]
    }
   ],
   "source": [
    "import os\n",
    "import pandas as pd\n",
    "\n",
    "# 1. Arbeitsverzeichnis ermitteln\n",
    "base_dir = os.getcwd()\n",
    "\n",
    "# 2. Pfad zur CSV\n",
    "csv_path = os.path.join(base_dir, 'lexikon_deDE15LinguisticVariant_final.csv')\n",
    "\n",
    "# 3. Einlesen\n",
    "df = pd.read_csv(csv_path, encoding='utf-8')\n",
    "\n",
    "# 4. Count vor dem Löschen\n",
    "print(f\"Zeilen vor Löschen von 'mueller': {len(df)}\")\n",
    "\n",
    "# 5. Alle Zeilen löschen, in denen in der Spalte COMPONENT_cleaned 'mueller' vorkommt\n",
    "mask = df['COMPONENT_cleaned'].str.contains('mueller', case=False, na=False)\n",
    "df_filtered = df.loc[~mask]\n",
    "\n",
    "# 6. Count nach dem Löschen\n",
    "print(f\"Zeilen nach Löschen von 'mueller': {len(df_filtered)}\")\n",
    "\n",
    "# 7. Neues CSV speichern\n",
    "out_path = os.path.join(base_dir, 'lexikon_deDE15LinguisticVariant_final_nomueller.csv')\n",
    "df_filtered.to_csv(out_path, index=False, encoding='utf-8')\n",
    "print(f\"Gefiltertes CSV gespeichert als: {out_path}\")\n",
    "\n"
   ]
  },
  {
   "cell_type": "code",
   "execution_count": 11,
   "id": "7fdeedf1-752a-4e22-9574-c5e216e42fca",
   "metadata": {},
   "outputs": [
    {
     "name": "stdout",
     "output_type": "stream",
     "text": [
      "Alle Artikel entfernt – neues CSV: /Users/mosimacnew/Code/speechbrain-fix/myNotebooks/2_STT-Metriken/mwer/lexikon_deDE15LinguisticVariant_final_noarticles.csv\n"
     ]
    }
   ],
   "source": [
    "import os\n",
    "import pandas as pd\n",
    "import re\n",
    "\n",
    "# 1. Arbeitsverzeichnis ermitteln\n",
    "base_dir = os.getcwd()\n",
    "\n",
    "# 2. Pfad zur aktuellen CSV (passe ggf. den Dateinamen an)\n",
    "csv_in  = os.path.join(base_dir, 'lexikon_deDE15LinguisticVariant_final.csv')\n",
    "csv_out = os.path.join(base_dir, 'lexikon_deDE15LinguisticVariant_final_noarticles.csv')\n",
    "\n",
    "# 3. Einlesen\n",
    "df = pd.read_csv(csv_in, encoding='utf-8')\n",
    "\n",
    "# 4. Liste der zu entfernenden Wörter (alles in Kleinbuchstaben)\n",
    "articles = ['stunden', 'nach', 'und', 'die', 'der', 'das', 'in', 'mit', 'zu', 'auf', 'einer', 'ordnung', 'fuer', 'sie', 'normal', 'an', 'vor', 'auch']\n",
    "\n",
    "# 5. Funktion, die die Artikel und überflüssige Leerzeichen löscht\n",
    "def remove_articles(text):\n",
    "    if pd.isna(text):\n",
    "        return text\n",
    "    text = text.lower()\n",
    "    # Regex für ganze Wort-Matches der Artikel\n",
    "    pattern = r'\\b(?:' + '|'.join(articles) + r')\\b'\n",
    "    # Entfernen und mehrfach Leerzeichen auf ein reduzieren\n",
    "    text = re.sub(pattern, ' ', text)\n",
    "    text = re.sub(r'\\s+', ' ', text).strip()\n",
    "    return text\n",
    "\n",
    "# 6. Spalte aktualisieren\n",
    "df['COMPONENT_cleaned'] = df['COMPONENT_cleaned'].apply(remove_articles)\n",
    "\n",
    "# 7. Speichern\n",
    "df.to_csv(csv_out, index=False, encoding='utf-8')\n",
    "print(f\"Alle Artikel entfernt – neues CSV: {csv_out}\")\n"
   ]
  },
  {
   "cell_type": "code",
   "execution_count": 12,
   "id": "96895651-9e63-45b1-8479-e61320562265",
   "metadata": {},
   "outputs": [
    {
     "name": "stdout",
     "output_type": "stream",
     "text": [
      "Neues CSV ohne Artikel gespeichert: /Users/mosimacnew/Code/speechbrain-fix/myNotebooks/2_STT-Metriken/mwer/lexikon_ATC-Bedeutung_final_noarticles.csv\n"
     ]
    }
   ],
   "source": [
    "import os\n",
    "import pandas as pd\n",
    "import re\n",
    "\n",
    "# 1. Arbeitsverzeichnis ermitteln\n",
    "base_dir = os.getcwd()\n",
    "\n",
    "# 2. Pfade für Eingabe- und Ausgabe-CSV\n",
    "csv_in  = os.path.join(base_dir, 'lexikon_ATC-Bedeutung_final.csv')\n",
    "csv_out = os.path.join(base_dir, 'lexikon_ATC-Bedeutung_final_noarticles.csv')\n",
    "\n",
    "# 3. CSV einlesen\n",
    "df = pd.read_csv(csv_in, encoding='utf-8')\n",
    "\n",
    "# 4. Liste der zu entfernenden Wörter (alles in Kleinbuchstaben)\n",
    "articles = ['stunden', 'nach', 'und', 'die', 'der', 'das', 'in', 'mit', 'zu', 'auf', 'einer', 'ordnung', 'fuer', 'sie', 'normal', 'an', 'vor', 'auch']\n",
    "\n",
    "# 5. Funktion, die die Artikel und überflüssige Leerzeichen löscht\n",
    "def remove_articles(text):\n",
    "    if pd.isna(text):\n",
    "        return text\n",
    "    text = text.lower()\n",
    "    pattern = r'\\b(?:' + '|'.join(articles) + r')\\b'\n",
    "    text = re.sub(pattern, ' ', text)\n",
    "    text = re.sub(r'\\s+', ' ', text).strip()\n",
    "    return text\n",
    "\n",
    "# 6. Spalte updaten\n",
    "df['ATC-Bedeutung_cleaned'] = df['ATC-Bedeutung_cleaned'].apply(remove_articles)\n",
    "\n",
    "# 7. Neues CSV speichern\n",
    "df.to_csv(csv_out, index=False, encoding='utf-8')\n",
    "print(f\"Neues CSV ohne Artikel gespeichert: {csv_out}\")\n"
   ]
  },
  {
   "cell_type": "code",
   "execution_count": 3,
   "id": "e137bbbf-5458-4685-9fe2-e5388e31f18f",
   "metadata": {},
   "outputs": [
    {
     "name": "stdout",
     "output_type": "stream",
     "text": [
      "Fertig – neue Datei: /Users/mosimacnew/Code/speechbrain-fix/myNotebooks/2_STT-Metriken/mwer/lexikon_ATC-Bedeutung_final_noarticles.csv\n"
     ]
    },
    {
     "name": "stderr",
     "output_type": "stream",
     "text": [
      "[nltk_data] Downloading package stopwords to\n",
      "[nltk_data]     /Users/mosimacnew/nltk_data...\n",
      "[nltk_data]   Package stopwords is already up-to-date!\n"
     ]
    }
   ],
   "source": [
    "import os\n",
    "import pandas as pd\n",
    "import re\n",
    "import nltk\n",
    "from nltk.corpus import stopwords\n",
    "\n",
    "# 1. Falls noch nicht geschehen: Stopwords herunterladen\n",
    "nltk.download('stopwords')\n",
    "\n",
    "# 2. Arbeitsverzeichnis ermitteln\n",
    "base_dir = os.getcwd()\n",
    "\n",
    "# 3. Ein- und Ausgabepfade\n",
    "csv_in  = os.path.join(base_dir, 'lexikon_ATC-Bedeutung_final.csv')\n",
    "csv_out = os.path.join(base_dir, 'lexikon_ATC-Bedeutung_final_noarticles.csv')\n",
    "\n",
    "# 4. CSV einlesen\n",
    "df = pd.read_csv(csv_in, encoding='utf-8')\n",
    "\n",
    "# 5. Deutsche Stopwords + eigene Liste zusammenführen\n",
    "stops = set(stopwords.words('german'))\n",
    "stops.update([\n",
    "    'stunden','nach','und','die','der','das','in','mit','zu','auf',\n",
    "    'einer','ordnung','fuer','sie','normal','an','vor','auch',\n",
    "    'andere','ohne'\n",
    "])\n",
    "\n",
    "# 6. Reinigungsfunktion\n",
    "def filter_stopwords(text):\n",
    "    if pd.isna(text):\n",
    "        return text\n",
    "    # in lowercase\n",
    "    tokens = re.findall(r'\\b[a-zäöüß]+\\b', text.lower())\n",
    "    # herausfiltern\n",
    "    filtered = [t for t in tokens if t not in stops and len(t) > 1]\n",
    "    return ' '.join(filtered)\n",
    "\n",
    "# 7. Spalte updaten\n",
    "df['ATC-Bedeutung_cleaned'] = df['ATC-Bedeutung_cleaned'].apply(filter_stopwords)\n",
    "\n",
    "# 8. Speichern\n",
    "df.to_csv(csv_out, index=False, encoding='utf-8')\n",
    "print(f\"Fertig – neue Datei: {csv_out}\")\n",
    "\n"
   ]
  },
  {
   "cell_type": "code",
   "execution_count": 1,
   "id": "545a97ba-bb75-4827-9e96-7c18ecfd623e",
   "metadata": {},
   "outputs": [
    {
     "name": "stdout",
     "output_type": "stream",
     "text": [
      "232 Stoppwörter geladen\n",
      "['aber', 'alle', 'allem', 'allen', 'aller', 'alles', 'als', 'also', 'am', 'an', 'ander', 'andere', 'anderem', 'anderen', 'anderer', 'anderes', 'anderm', 'andern', 'anderr', 'anders']\n"
     ]
    }
   ],
   "source": [
    "from nltk.corpus import stopwords\n",
    "stops = stopwords.words('german')\n",
    "print(len(stops), \"Stoppwörter geladen\")\n",
    "print(stops[:20])\n"
   ]
  },
  {
   "cell_type": "code",
   "execution_count": 5,
   "id": "37e95d6b-0cc9-453b-9ba8-8af796176b4e",
   "metadata": {},
   "outputs": [
    {
     "name": "stdout",
     "output_type": "stream",
     "text": [
      "Neues CSV ohne Stopwords und Einbuchstaben: /Users/mosimacnew/Code/speechbrain-fix/myNotebooks/2_STT-Metriken/mwer/lexikon_deDE15LinguisticVariant_final_noarticles.csv\n"
     ]
    },
    {
     "name": "stderr",
     "output_type": "stream",
     "text": [
      "[nltk_data] Downloading package stopwords to\n",
      "[nltk_data]     /Users/mosimacnew/nltk_data...\n",
      "[nltk_data]   Package stopwords is already up-to-date!\n"
     ]
    }
   ],
   "source": [
    "import os\n",
    "import pandas as pd\n",
    "import re\n",
    "import nltk\n",
    "from nltk.corpus import stopwords\n",
    "\n",
    "# 1. Falls noch nicht geschehen: Stopwords herunterladen\n",
    "nltk.download('stopwords')\n",
    "\n",
    "# 2. Basis-Verzeichnis\n",
    "base_dir = os.getcwd()\n",
    "\n",
    "# 3. Ein-/Ausgabepfade\n",
    "csv_in  = os.path.join(base_dir, 'lexikon_deDE15LinguisticVariant_final.csv')\n",
    "csv_out = os.path.join(base_dir, 'lexikon_deDE15LinguisticVariant_final_noarticles.csv')\n",
    "\n",
    "# 4. CSV einlesen\n",
    "df = pd.read_csv(csv_in, encoding='utf-8')\n",
    "\n",
    "# 5. Stopword-Set aus NLTK + eigene Ergänzungen\n",
    "stops = set(stopwords.words('german'))\n",
    "stops.update([\n",
    "    'stunden','nach','und','die','der','das','in','mit','zu','auf',\n",
    "    'einer','ordnung','fuer','sie','normal','an','vor','auch',\n",
    "    'andere','ohne'\n",
    "])\n",
    "\n",
    "# 6. Reinigungsfunktion\n",
    "def clean_component(text):\n",
    "    if pd.isna(text):\n",
    "        return text\n",
    "    text = text.lower()\n",
    "    # Tokenisieren auf Wortgrenzen (inkl. Umlaute)\n",
    "    tokens = re.findall(r'\\b[a-zäöüß]+\\b', text)\n",
    "    # Filter: keine Stopwords, keine Einbuchstaben-Wörter\n",
    "    filtered = [t for t in tokens if t not in stops and len(t) > 1]\n",
    "    return ' '.join(filtered)\n",
    "\n",
    "# 7. Spalte anwenden\n",
    "df['COMPONENT_cleaned'] = df['COMPONENT_cleaned'].apply(clean_component)\n",
    "\n",
    "# 8. Speichern\n",
    "df.to_csv(csv_out, index=False, encoding='utf-8')\n",
    "print(f\"Neues CSV ohne Stopwords und Einbuchstaben: {csv_out}\")\n",
    "\n"
   ]
  },
  {
   "cell_type": "code",
   "execution_count": null,
   "id": "a1a00902-6608-4c7c-9bde-5d71aabe4e4c",
   "metadata": {},
   "outputs": [],
   "source": []
  }
 ],
 "metadata": {
  "kernelspec": {
   "display_name": "stanic eval",
   "language": "python",
   "name": "stanic-eval"
  },
  "language_info": {
   "codemirror_mode": {
    "name": "ipython",
    "version": 3
   },
   "file_extension": ".py",
   "mimetype": "text/x-python",
   "name": "python",
   "nbconvert_exporter": "python",
   "pygments_lexer": "ipython3",
   "version": "3.11.8"
  }
 },
 "nbformat": 4,
 "nbformat_minor": 5
}
